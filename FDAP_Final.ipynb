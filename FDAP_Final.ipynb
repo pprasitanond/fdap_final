{
 "cells": [
  {
   "cell_type": "code",
   "execution_count": 1,
   "metadata": {},
   "outputs": [],
   "source": [
    "#Load dependencies\n",
    "\n",
    "import pandas as pd\n",
    "import seaborn as sns\n",
    "import numpy as np"
   ]
  },
  {
   "cell_type": "code",
   "execution_count": 2,
   "metadata": {},
   "outputs": [],
   "source": [
    "#Load Data\n",
    "\n",
    "df = pd.read_csv(\"https://raw.githubusercontent.com/pprasitanond/fdap_final/main/Datadump%20(1).csv\",index_col= \"datadate\", parse_dates= True)\n",
    "dfc = df.drop(columns=['fyearq','fqtr','indfmt','consol','popsrc','datafmt','curcdq','datacqtr','datafqtr','costat','gsubind'])\n",
    "\n",
    "\n"
   ]
  },
  {
   "cell_type": "code",
   "execution_count": 14,
   "metadata": {},
   "outputs": [],
   "source": [
    "dfc = dfc.dropna(subset = [\"prccq\",\"xrdq\",\"cshoq\"])"
   ]
  },
  {
   "cell_type": "code",
   "execution_count": 15,
   "metadata": {},
   "outputs": [
    {
     "name": "stderr",
     "output_type": "stream",
     "text": [
      "/opt/anaconda3/lib/python3.7/site-packages/ipykernel_launcher.py:1: SettingWithCopyWarning: \n",
      "A value is trying to be set on a copy of a slice from a DataFrame.\n",
      "Try using .loc[row_indexer,col_indexer] = value instead\n",
      "\n",
      "See the caveats in the documentation: https://pandas.pydata.org/pandas-docs/stable/user_guide/indexing.html#returning-a-view-versus-a-copy\n",
      "  \"\"\"Entry point for launching an IPython kernel.\n"
     ]
    }
   ],
   "source": [
    "dfc['mkt_val'] = dfc['cshoq']*dfc['prccq']"
   ]
  },
  {
   "cell_type": "code",
   "execution_count": 16,
   "metadata": {},
   "outputs": [
    {
     "name": "stderr",
     "output_type": "stream",
     "text": [
      "/opt/anaconda3/lib/python3.7/site-packages/ipykernel_launcher.py:1: SettingWithCopyWarning: \n",
      "A value is trying to be set on a copy of a slice from a DataFrame.\n",
      "Try using .loc[row_indexer,col_indexer] = value instead\n",
      "\n",
      "See the caveats in the documentation: https://pandas.pydata.org/pandas-docs/stable/user_guide/indexing.html#returning-a-view-versus-a-copy\n",
      "  \"\"\"Entry point for launching an IPython kernel.\n"
     ]
    }
   ],
   "source": [
    "dfc['attribute'] = dfc['xrdq']/dfc['mkt_val']"
   ]
  },
  {
   "cell_type": "code",
   "execution_count": 17,
   "metadata": {},
   "outputs": [
    {
     "data": {
      "text/html": [
       "<div>\n",
       "<style scoped>\n",
       "    .dataframe tbody tr th:only-of-type {\n",
       "        vertical-align: middle;\n",
       "    }\n",
       "\n",
       "    .dataframe tbody tr th {\n",
       "        vertical-align: top;\n",
       "    }\n",
       "\n",
       "    .dataframe thead th {\n",
       "        text-align: right;\n",
       "    }\n",
       "</style>\n",
       "<table border=\"1\" class=\"dataframe\">\n",
       "  <thead>\n",
       "    <tr style=\"text-align: right;\">\n",
       "      <th></th>\n",
       "      <th>gvkey</th>\n",
       "      <th>conm</th>\n",
       "      <th>cshoq</th>\n",
       "      <th>xrdq</th>\n",
       "      <th>prccq</th>\n",
       "      <th>mkt_val</th>\n",
       "      <th>attribute</th>\n",
       "    </tr>\n",
       "    <tr>\n",
       "      <th>datadate</th>\n",
       "      <th></th>\n",
       "      <th></th>\n",
       "      <th></th>\n",
       "      <th></th>\n",
       "      <th></th>\n",
       "      <th></th>\n",
       "      <th></th>\n",
       "    </tr>\n",
       "  </thead>\n",
       "  <tbody>\n",
       "    <tr>\n",
       "      <th>2019-01-31</th>\n",
       "      <td>1562</td>\n",
       "      <td>AMERICAN SOFTWARE  -CL A</td>\n",
       "      <td>31.067</td>\n",
       "      <td>2.811</td>\n",
       "      <td>11.06</td>\n",
       "      <td>343.60102</td>\n",
       "      <td>0.008181</td>\n",
       "    </tr>\n",
       "    <tr>\n",
       "      <th>2019-04-30</th>\n",
       "      <td>1562</td>\n",
       "      <td>AMERICAN SOFTWARE  -CL A</td>\n",
       "      <td>31.213</td>\n",
       "      <td>3.260</td>\n",
       "      <td>12.95</td>\n",
       "      <td>404.20835</td>\n",
       "      <td>0.008065</td>\n",
       "    </tr>\n",
       "    <tr>\n",
       "      <th>2019-07-31</th>\n",
       "      <td>1562</td>\n",
       "      <td>AMERICAN SOFTWARE  -CL A</td>\n",
       "      <td>31.365</td>\n",
       "      <td>3.328</td>\n",
       "      <td>13.32</td>\n",
       "      <td>417.78180</td>\n",
       "      <td>0.007966</td>\n",
       "    </tr>\n",
       "    <tr>\n",
       "      <th>2019-10-31</th>\n",
       "      <td>1562</td>\n",
       "      <td>AMERICAN SOFTWARE  -CL A</td>\n",
       "      <td>31.864</td>\n",
       "      <td>4.209</td>\n",
       "      <td>16.21</td>\n",
       "      <td>516.51544</td>\n",
       "      <td>0.008149</td>\n",
       "    </tr>\n",
       "    <tr>\n",
       "      <th>2020-01-31</th>\n",
       "      <td>1562</td>\n",
       "      <td>AMERICAN SOFTWARE  -CL A</td>\n",
       "      <td>32.016</td>\n",
       "      <td>3.853</td>\n",
       "      <td>14.93</td>\n",
       "      <td>477.99888</td>\n",
       "      <td>0.008061</td>\n",
       "    </tr>\n",
       "    <tr>\n",
       "      <th>...</th>\n",
       "      <td>...</td>\n",
       "      <td>...</td>\n",
       "      <td>...</td>\n",
       "      <td>...</td>\n",
       "      <td>...</td>\n",
       "      <td>...</td>\n",
       "      <td>...</td>\n",
       "    </tr>\n",
       "    <tr>\n",
       "      <th>2020-10-31</th>\n",
       "      <td>339965</td>\n",
       "      <td>SNOWFLAKE INC</td>\n",
       "      <td>283.119</td>\n",
       "      <td>74.138</td>\n",
       "      <td>250.02</td>\n",
       "      <td>70785.41238</td>\n",
       "      <td>0.001047</td>\n",
       "    </tr>\n",
       "    <tr>\n",
       "      <th>2021-01-31</th>\n",
       "      <td>339965</td>\n",
       "      <td>SNOWFLAKE INC</td>\n",
       "      <td>287.918</td>\n",
       "      <td>93.997</td>\n",
       "      <td>272.45</td>\n",
       "      <td>78443.25910</td>\n",
       "      <td>0.001198</td>\n",
       "    </tr>\n",
       "    <tr>\n",
       "      <th>2021-04-30</th>\n",
       "      <td>339965</td>\n",
       "      <td>SNOWFLAKE INC</td>\n",
       "      <td>295.790</td>\n",
       "      <td>109.796</td>\n",
       "      <td>231.59</td>\n",
       "      <td>68502.00610</td>\n",
       "      <td>0.001603</td>\n",
       "    </tr>\n",
       "    <tr>\n",
       "      <th>2021-07-31</th>\n",
       "      <td>339965</td>\n",
       "      <td>SNOWFLAKE INC</td>\n",
       "      <td>300.585</td>\n",
       "      <td>118.087</td>\n",
       "      <td>265.72</td>\n",
       "      <td>79871.44620</td>\n",
       "      <td>0.001478</td>\n",
       "    </tr>\n",
       "    <tr>\n",
       "      <th>2021-10-31</th>\n",
       "      <td>339965</td>\n",
       "      <td>SNOWFLAKE INC</td>\n",
       "      <td>300.585</td>\n",
       "      <td>115.900</td>\n",
       "      <td>353.84</td>\n",
       "      <td>106358.99640</td>\n",
       "      <td>0.001090</td>\n",
       "    </tr>\n",
       "  </tbody>\n",
       "</table>\n",
       "<p>2639 rows × 7 columns</p>\n",
       "</div>"
      ],
      "text/plain": [
       "             gvkey                      conm    cshoq     xrdq   prccq  \\\n",
       "datadate                                                                 \n",
       "2019-01-31    1562  AMERICAN SOFTWARE  -CL A   31.067    2.811   11.06   \n",
       "2019-04-30    1562  AMERICAN SOFTWARE  -CL A   31.213    3.260   12.95   \n",
       "2019-07-31    1562  AMERICAN SOFTWARE  -CL A   31.365    3.328   13.32   \n",
       "2019-10-31    1562  AMERICAN SOFTWARE  -CL A   31.864    4.209   16.21   \n",
       "2020-01-31    1562  AMERICAN SOFTWARE  -CL A   32.016    3.853   14.93   \n",
       "...            ...                       ...      ...      ...     ...   \n",
       "2020-10-31  339965             SNOWFLAKE INC  283.119   74.138  250.02   \n",
       "2021-01-31  339965             SNOWFLAKE INC  287.918   93.997  272.45   \n",
       "2021-04-30  339965             SNOWFLAKE INC  295.790  109.796  231.59   \n",
       "2021-07-31  339965             SNOWFLAKE INC  300.585  118.087  265.72   \n",
       "2021-10-31  339965             SNOWFLAKE INC  300.585  115.900  353.84   \n",
       "\n",
       "                 mkt_val  attribute  \n",
       "datadate                             \n",
       "2019-01-31     343.60102   0.008181  \n",
       "2019-04-30     404.20835   0.008065  \n",
       "2019-07-31     417.78180   0.007966  \n",
       "2019-10-31     516.51544   0.008149  \n",
       "2020-01-31     477.99888   0.008061  \n",
       "...                  ...        ...  \n",
       "2020-10-31   70785.41238   0.001047  \n",
       "2021-01-31   78443.25910   0.001198  \n",
       "2021-04-30   68502.00610   0.001603  \n",
       "2021-07-31   79871.44620   0.001478  \n",
       "2021-10-31  106358.99640   0.001090  \n",
       "\n",
       "[2639 rows x 7 columns]"
      ]
     },
     "execution_count": 17,
     "metadata": {},
     "output_type": "execute_result"
    }
   ],
   "source": [
    "dfc"
   ]
  },
  {
   "cell_type": "code",
   "execution_count": 42,
   "metadata": {},
   "outputs": [
    {
     "data": {
      "text/plain": [
       "[-0.003250099088386841,\n",
       " -0.0019335769291871868,\n",
       " -0.0013284080051910096,\n",
       " 0.0,\n",
       " 0.0,\n",
       " 0.0,\n",
       " 0.0,\n",
       " 0.0,\n",
       " 0.0,\n",
       " 0.0]"
      ]
     },
     "execution_count": 42,
     "metadata": {},
     "output_type": "execute_result"
    }
   ],
   "source": [
    "bottom10attribute = dfc['attribute'].sort_values().head(10).tolist()\n",
    "bottom10attribute"
   ]
  },
  {
   "cell_type": "markdown",
   "metadata": {},
   "source": [
    "\n"
   ]
  },
  {
   "cell_type": "code",
   "execution_count": 33,
   "metadata": {},
   "outputs": [
    {
     "data": {
      "text/plain": [
       "[-0.003250099088386841,\n",
       " -0.0019335769291871868,\n",
       " -0.0013284080051910096,\n",
       " 0.0,\n",
       " 0.0,\n",
       " 0.0,\n",
       " 0.0,\n",
       " 0.0,\n",
       " 0.0,\n",
       " 0.0]"
      ]
     },
     "execution_count": 33,
     "metadata": {},
     "output_type": "execute_result"
    }
   ],
   "source": [
    "bottom10attribute"
   ]
  },
  {
   "cell_type": "code",
   "execution_count": null,
   "metadata": {},
   "outputs": [],
   "source": []
  }
 ],
 "metadata": {
  "kernelspec": {
   "display_name": "Python 3",
   "language": "python",
   "name": "python3"
  },
  "language_info": {
   "codemirror_mode": {
    "name": "ipython",
    "version": 3
   },
   "file_extension": ".py",
   "mimetype": "text/x-python",
   "name": "python",
   "nbconvert_exporter": "python",
   "pygments_lexer": "ipython3",
   "version": "3.7.6"
  }
 },
 "nbformat": 4,
 "nbformat_minor": 4
}
